{
 "cells": [
  {
   "cell_type": "code",
   "execution_count": 1,
   "id": "247f64cc",
   "metadata": {},
   "outputs": [],
   "source": [
    "import pandas as pd"
   ]
  },
  {
   "cell_type": "code",
   "execution_count": 2,
   "id": "9956d9e0",
   "metadata": {},
   "outputs": [],
   "source": [
    "import numpy as np"
   ]
  },
  {
   "cell_type": "code",
   "execution_count": 3,
   "id": "1e93a336",
   "metadata": {},
   "outputs": [],
   "source": [
    "import scipy"
   ]
  },
  {
   "cell_type": "code",
   "execution_count": 4,
   "id": "f5d90e4d",
   "metadata": {},
   "outputs": [],
   "source": [
    "import matplotlib.pyplot as plt"
   ]
  },
  {
   "cell_type": "code",
   "execution_count": 5,
   "id": "0e792d4c",
   "metadata": {},
   "outputs": [],
   "source": [
    "import statsmodels.api as sm"
   ]
  },
  {
   "cell_type": "code",
   "execution_count": 19,
   "id": "75ac8946",
   "metadata": {},
   "outputs": [],
   "source": [
    "import statsmodels.formula.api as smf"
   ]
  },
  {
   "cell_type": "code",
   "execution_count": 23,
   "id": "92ddcff3",
   "metadata": {},
   "outputs": [],
   "source": [
    "df = pd.read_csv('data.csv')\n",
    "df2 = pd.DataFrame(df)"
   ]
  },
  {
   "cell_type": "code",
   "execution_count": 24,
   "id": "c610d7e4",
   "metadata": {},
   "outputs": [
    {
     "name": "stdout",
     "output_type": "stream",
     "text": [
      "      economy    time  Renewable energy consumption  \\\n",
      "0         ABW  YR1970                           NaN   \n",
      "1         ABW  YR1971                           NaN   \n",
      "2         ABW  YR1972                           NaN   \n",
      "3         ABW  YR1973                           NaN   \n",
      "4         ABW  YR1974                           NaN   \n",
      "...       ...     ...                           ...   \n",
      "12933     ZWE  YR2015                     81.427200   \n",
      "12934     ZWE  YR2016                     82.792603   \n",
      "12935     ZWE  YR2017                     83.492996   \n",
      "12936     ZWE  YR2018                     81.363602   \n",
      "12937     ZWE  YR2019                           NaN   \n",
      "\n",
      "       Fossil fuel energy consumption  CO2 intensity  \\\n",
      "0                                 NaN            NaN   \n",
      "1                                 NaN            NaN   \n",
      "2                                 NaN            NaN   \n",
      "3                                 NaN            NaN   \n",
      "4                                 NaN            NaN   \n",
      "...                               ...            ...   \n",
      "12933                             NaN            NaN   \n",
      "12934                             NaN            NaN   \n",
      "12935                             NaN            NaN   \n",
      "12936                             NaN            NaN   \n",
      "12937                             NaN            NaN   \n",
      "\n",
      "       CO2 emissions (metric tons per capita)  Other greenhouse gas emissions  \\\n",
      "0                                         NaN                       19.667901   \n",
      "1                                         NaN                       19.957364   \n",
      "2                                         NaN                       20.005770   \n",
      "3                                         NaN                       19.716685   \n",
      "4                                         NaN                       18.926185   \n",
      "...                                       ...                             ...   \n",
      "12933                                0.897598                     2499.469604   \n",
      "12934                                0.783303                     1587.372070   \n",
      "12935                                0.718570                             NaN   \n",
      "12936                                0.849793                             NaN   \n",
      "12937                                     NaN                             NaN   \n",
      "\n",
      "       HFC gas emissions  Methane emissions  Nitrous oxide emissions  \\\n",
      "0                    NaN            10.2469                 1.826198   \n",
      "1                    NaN            10.4531                 1.826948   \n",
      "2                    NaN            10.6570                 1.844813   \n",
      "3                    NaN            10.8551                 1.822090   \n",
      "4                    NaN            11.0415                 1.821157   \n",
      "...                  ...                ...                      ...   \n",
      "12933                NaN         11790.0000              6490.000000   \n",
      "12934                NaN         11380.0000              6090.000000   \n",
      "12935                NaN         11560.0000              6280.000000   \n",
      "12936                NaN         11850.0000              6470.000000   \n",
      "12937                NaN                NaN                      NaN   \n",
      "\n",
      "       PFC gas emissions  SF6 gas emissions  \\\n",
      "0                    NaN                NaN   \n",
      "1                    NaN                NaN   \n",
      "2                    NaN                NaN   \n",
      "3                    NaN                NaN   \n",
      "4                    NaN                NaN   \n",
      "...                  ...                ...   \n",
      "12933                NaN                NaN   \n",
      "12934                NaN                NaN   \n",
      "12935                NaN                NaN   \n",
      "12936                NaN                NaN   \n",
      "12937                NaN                NaN   \n",
      "\n",
      "       Droughts, floods, extreme temperatures  Natural gas rents (% of GDP)  \\\n",
      "0                                         NaN                           NaN   \n",
      "1                                         NaN                           NaN   \n",
      "2                                         NaN                           NaN   \n",
      "3                                         NaN                           NaN   \n",
      "4                                         NaN                           NaN   \n",
      "...                                       ...                           ...   \n",
      "12933                                     NaN                           0.0   \n",
      "12934                                     NaN                           0.0   \n",
      "12935                                     NaN                           0.0   \n",
      "12936                                     NaN                           0.0   \n",
      "12937                                     NaN                           0.0   \n",
      "\n",
      "       GDP per capita (current US$)  Mortality rate due to AP  \\\n",
      "0                               NaN                       NaN   \n",
      "1                               NaN                       NaN   \n",
      "2                               NaN                       NaN   \n",
      "3                               NaN                       NaN   \n",
      "4                               NaN                       NaN   \n",
      "...                             ...                       ...   \n",
      "12933                   1445.069702                       NaN   \n",
      "12934                   1464.588957                     133.0   \n",
      "12935                   1235.189032                       NaN   \n",
      "12936                   1254.642265                       NaN   \n",
      "12937                   1316.740657                       NaN   \n",
      "\n",
      "       Poverty gap at $3.20 a day  Multidimensional poverty headcount ratio  \n",
      "0                             NaN                                       NaN  \n",
      "1                             NaN                                       NaN  \n",
      "2                             NaN                                       NaN  \n",
      "3                             NaN                                       NaN  \n",
      "4                             NaN                                       NaN  \n",
      "...                           ...                                       ...  \n",
      "12933                         NaN                                       NaN  \n",
      "12934                         NaN                                       NaN  \n",
      "12935                        25.4                                       NaN  \n",
      "12936                         NaN                                       NaN  \n",
      "12937                        29.5                                       NaN  \n",
      "\n",
      "[12938 rows x 18 columns]\n"
     ]
    }
   ],
   "source": [
    "print(df2)"
   ]
  },
  {
   "cell_type": "code",
   "execution_count": 29,
   "id": "80cf0ba9",
   "metadata": {
    "scrolled": false
   },
   "outputs": [
    {
     "data": {
      "image/png": "[encoded data removed]",
      "text/plain": [
       "<Figure size 432x288 with 1 Axes>"
      ]
     },
     "metadata": {
      "needs_background": "light"
     },
     "output_type": "display_data"
    }
   ],
   "source": [
    "scatter = df.plot.scatter('CO2 emissions (metric tons per capita)', 'GDP per capita (current US$)')"
   ]
  },
  {
   "cell_type": "code",
   "execution_count": 30,
   "id": "797a6992",
   "metadata": {},
   "outputs": [],
   "source": [
    "scatter.figure.savefig('intitial scatter.pdf', dpi=300)"
   ]
  },
  {
   "cell_type": "code",
   "execution_count": 31,
   "id": "bc06ab81",
   "metadata": {},
   "outputs": [
    {
     "ename": "KeyError",
     "evalue": "'CO2 emissions (metric tons per capita)'",
     "output_type": "error",
     "traceback": [
      "\u001b[1;31m---------------------------------------------------------------------------\u001b[0m",
      "\u001b[1;31mKeyError\u001b[0m                                  Traceback (most recent call last)",
      "\u001b[1;32m~\\anaconda3\\lib\\site-packages\\pandas\\core\\indexes\\base.py\u001b[0m in \u001b[0;36mget_loc\u001b[1;34m(self, key, method, tolerance)\u001b[0m\n\u001b[0;32m   3360\u001b[0m             \u001b[1;32mtry\u001b[0m\u001b[1;33m:\u001b[0m\u001b[1;33m\u001b[0m\u001b[1;33m\u001b[0m\u001b[0m\n\u001b[1;32m-> 3361\u001b[1;33m                 \u001b[1;32mreturn\u001b[0m \u001b[0mself\u001b[0m\u001b[1;33m.\u001b[0m\u001b[0m_engine\u001b[0m\u001b[1;33m.\u001b[0m\u001b[0mget_loc\u001b[0m\u001b[1;33m(\u001b[0m\u001b[0mcasted_key\u001b[0m\u001b[1;33m)\u001b[0m\u001b[1;33m\u001b[0m\u001b[1;33m\u001b[0m\u001b[0m\n\u001b[0m\u001b[0;32m   3362\u001b[0m             \u001b[1;32mexcept\u001b[0m \u001b[0mKeyError\u001b[0m \u001b[1;32mas\u001b[0m \u001b[0merr\u001b[0m\u001b[1;33m:\u001b[0m\u001b[1;33m\u001b[0m\u001b[1;33m\u001b[0m\u001b[0m\n",
      "\u001b[1;32m~\\anaconda3\\lib\\site-packages\\pandas\\_libs\\index.pyx\u001b[0m in \u001b[0;36mpandas._libs.index.IndexEngine.get_loc\u001b[1;34m()\u001b[0m\n",
      "\u001b[1;32m~\\anaconda3\\lib\\site-packages\\pandas\\_libs\\index.pyx\u001b[0m in \u001b[0;36mpandas._libs.index.IndexEngine.get_loc\u001b[1;34m()\u001b[0m\n",
      "\u001b[1;32mpandas\\_libs\\hashtable_class_helper.pxi\u001b[0m in \u001b[0;36mpandas._libs.hashtable.PyObjectHashTable.get_item\u001b[1;34m()\u001b[0m\n",
      "\u001b[1;32mpandas\\_libs\\hashtable_class_helper.pxi\u001b[0m in \u001b[0;36mpandas._libs.hashtable.PyObjectHashTable.get_item\u001b[1;34m()\u001b[0m\n",
      "\u001b[1;31mKeyError\u001b[0m: 'CO2 emissions (metric tons per capita)'",
      "\nThe above exception was the direct cause of the following exception:\n",
      "\u001b[1;31mKeyError\u001b[0m                                  Traceback (most recent call last)",
      "\u001b[1;32m~\\AppData\\Local\\Temp/ipykernel_29524/3296107835.py\u001b[0m in \u001b[0;36m<module>\u001b[1;34m\u001b[0m\n\u001b[0;32m      1\u001b[0m \u001b[0mupdated_df\u001b[0m \u001b[1;33m=\u001b[0m \u001b[0mdf\u001b[0m\u001b[1;33m.\u001b[0m\u001b[0mdropna\u001b[0m\u001b[1;33m(\u001b[0m\u001b[0maxis\u001b[0m\u001b[1;33m=\u001b[0m\u001b[1;36m1\u001b[0m\u001b[1;33m)\u001b[0m \u001b[1;31m# not the best strategy, will figure out how to make a balanced data set\u001b[0m\u001b[1;33m\u001b[0m\u001b[1;33m\u001b[0m\u001b[0m\n\u001b[1;32m----> 2\u001b[1;33m \u001b[0mX\u001b[0m \u001b[1;33m=\u001b[0m \u001b[0mupdated_df\u001b[0m\u001b[1;33m[\u001b[0m\u001b[1;34m'CO2 emissions (metric tons per capita)'\u001b[0m\u001b[1;33m]\u001b[0m\u001b[1;33m\u001b[0m\u001b[1;33m\u001b[0m\u001b[0m\n\u001b[0m\u001b[0;32m      3\u001b[0m \u001b[0mY\u001b[0m \u001b[1;33m=\u001b[0m \u001b[0mupdated_df\u001b[0m\u001b[1;33m[\u001b[0m\u001b[1;34m'GDP per capita (current US$)'\u001b[0m\u001b[1;33m]\u001b[0m\u001b[1;33m\u001b[0m\u001b[1;33m\u001b[0m\u001b[0m\n\u001b[0;32m      4\u001b[0m \u001b[0mX\u001b[0m \u001b[1;33m=\u001b[0m \u001b[0msm\u001b[0m\u001b[1;33m.\u001b[0m\u001b[0madd_constant\u001b[0m\u001b[1;33m(\u001b[0m\u001b[0mX\u001b[0m\u001b[1;33m)\u001b[0m\u001b[1;33m\u001b[0m\u001b[1;33m\u001b[0m\u001b[0m\n\u001b[0;32m      5\u001b[0m \u001b[1;33m\u001b[0m\u001b[0m\n",
      "\u001b[1;32m~\\anaconda3\\lib\\site-packages\\pandas\\core\\frame.py\u001b[0m in \u001b[0;36m__getitem__\u001b[1;34m(self, key)\u001b[0m\n\u001b[0;32m   3456\u001b[0m             \u001b[1;32mif\u001b[0m \u001b[0mself\u001b[0m\u001b[1;33m.\u001b[0m\u001b[0mcolumns\u001b[0m\u001b[1;33m.\u001b[0m\u001b[0mnlevels\u001b[0m \u001b[1;33m>\u001b[0m \u001b[1;36m1\u001b[0m\u001b[1;33m:\u001b[0m\u001b[1;33m\u001b[0m\u001b[1;33m\u001b[0m\u001b[0m\n\u001b[0;32m   3457\u001b[0m                 \u001b[1;32mreturn\u001b[0m \u001b[0mself\u001b[0m\u001b[1;33m.\u001b[0m\u001b[0m_getitem_multilevel\u001b[0m\u001b[1;33m(\u001b[0m\u001b[0mkey\u001b[0m\u001b[1;33m)\u001b[0m\u001b[1;33m\u001b[0m\u001b[1;33m\u001b[0m\u001b[0m\n\u001b[1;32m-> 3458\u001b[1;33m             \u001b[0mindexer\u001b[0m \u001b[1;33m=\u001b[0m \u001b[0mself\u001b[0m\u001b[1;33m.\u001b[0m\u001b[0mcolumns\u001b[0m\u001b[1;33m.\u001b[0m\u001b[0mget_loc\u001b[0m\u001b[1;33m(\u001b[0m\u001b[0mkey\u001b[0m\u001b[1;33m)\u001b[0m\u001b[1;33m\u001b[0m\u001b[1;33m\u001b[0m\u001b[0m\n\u001b[0m\u001b[0;32m   3459\u001b[0m             \u001b[1;32mif\u001b[0m \u001b[0mis_integer\u001b[0m\u001b[1;33m(\u001b[0m\u001b[0mindexer\u001b[0m\u001b[1;33m)\u001b[0m\u001b[1;33m:\u001b[0m\u001b[1;33m\u001b[0m\u001b[1;33m\u001b[0m\u001b[0m\n\u001b[0;32m   3460\u001b[0m                 \u001b[0mindexer\u001b[0m \u001b[1;33m=\u001b[0m \u001b[1;33m[\u001b[0m\u001b[0mindexer\u001b[0m\u001b[1;33m]\u001b[0m\u001b[1;33m\u001b[0m\u001b[1;33m\u001b[0m\u001b[0m\n",
      "\u001b[1;32m~\\anaconda3\\lib\\site-packages\\pandas\\core\\indexes\\base.py\u001b[0m in \u001b[0;36mget_loc\u001b[1;34m(self, key, method, tolerance)\u001b[0m\n\u001b[0;32m   3361\u001b[0m                 \u001b[1;32mreturn\u001b[0m \u001b[0mself\u001b[0m\u001b[1;33m.\u001b[0m\u001b[0m_engine\u001b[0m\u001b[1;33m.\u001b[0m\u001b[0mget_loc\u001b[0m\u001b[1;33m(\u001b[0m\u001b[0mcasted_key\u001b[0m\u001b[1;33m)\u001b[0m\u001b[1;33m\u001b[0m\u001b[1;33m\u001b[0m\u001b[0m\n\u001b[0;32m   3362\u001b[0m             \u001b[1;32mexcept\u001b[0m \u001b[0mKeyError\u001b[0m \u001b[1;32mas\u001b[0m \u001b[0merr\u001b[0m\u001b[1;33m:\u001b[0m\u001b[1;33m\u001b[0m\u001b[1;33m\u001b[0m\u001b[0m\n\u001b[1;32m-> 3363\u001b[1;33m                 \u001b[1;32mraise\u001b[0m \u001b[0mKeyError\u001b[0m\u001b[1;33m(\u001b[0m\u001b[0mkey\u001b[0m\u001b[1;33m)\u001b[0m \u001b[1;32mfrom\u001b[0m \u001b[0merr\u001b[0m\u001b[1;33m\u001b[0m\u001b[1;33m\u001b[0m\u001b[0m\n\u001b[0m\u001b[0;32m   3364\u001b[0m \u001b[1;33m\u001b[0m\u001b[0m\n\u001b[0;32m   3365\u001b[0m         \u001b[1;32mif\u001b[0m \u001b[0mis_scalar\u001b[0m\u001b[1;33m(\u001b[0m\u001b[0mkey\u001b[0m\u001b[1;33m)\u001b[0m \u001b[1;32mand\u001b[0m \u001b[0misna\u001b[0m\u001b[1;33m(\u001b[0m\u001b[0mkey\u001b[0m\u001b[1;33m)\u001b[0m \u001b[1;32mand\u001b[0m \u001b[1;32mnot\u001b[0m \u001b[0mself\u001b[0m\u001b[1;33m.\u001b[0m\u001b[0mhasnans\u001b[0m\u001b[1;33m:\u001b[0m\u001b[1;33m\u001b[0m\u001b[1;33m\u001b[0m\u001b[0m\n",
      "\u001b[1;31mKeyError\u001b[0m: 'CO2 emissions (metric tons per capita)'"
     ]
    }
   ],
   "source": [
    "updated_df = df.dropna(axis=1) # not the best strategy, will figure out how to make a balanced data set?\n",
    "X = updated_df['CO2 emissions (metric tons per capita)']\n",
    "Y = updated_df['GDP per capita (current US$)']\n",
    "X = sm.add_constant(X)\n",
    "\n",
    "model = sm.OLS(Y, X).fit()\n",
    "predictions = model.predict(X) \n",
    "\n",
    "print_model = model.summary()\n",
    "print(print_model)"
   ]
  },
  {
   "cell_type": "code",
   "execution_count": 14,
   "id": "57132bd2",
   "metadata": {},
   "outputs": [],
   "source": [
    "GDP_CO2 = df.filter(['GDP per capita (current US$)', 'CO2 emissions (metric tons per capita)'], axis=1)"
   ]
  },
  {
   "cell_type": "code",
   "execution_count": 15,
   "id": "7795b9fa",
   "metadata": {
    "scrolled": true
   },
   "outputs": [
    {
     "name": "stdout",
     "output_type": "stream",
     "text": [
      "       GDP per capita (current US$)  CO2 emissions (metric tons per capita)\n",
      "0                               NaN                                     NaN\n",
      "1                               NaN                                     NaN\n",
      "2                               NaN                                     NaN\n",
      "3                               NaN                                     NaN\n",
      "4                               NaN                                     NaN\n",
      "...                             ...                                     ...\n",
      "12933                   1445.069702                                0.897598\n",
      "12934                   1464.588957                                0.783303\n",
      "12935                   1235.189032                                0.718570\n",
      "12936                   1254.642265                                0.849793\n",
      "12937                   1316.740657                                     NaN\n",
      "\n",
      "[12938 rows x 2 columns]\n"
     ]
    }
   ],
   "source": [
    "print(GDP_CO2)"
   ]
  },
  {
   "cell_type": "code",
   "execution_count": 23,
   "id": "8e900b4a",
   "metadata": {},
   "outputs": [],
   "source": [
    "GDP_CO2.to_csv('GDP_CO2.csv')"
   ]
  },
  {
   "cell_type": "code",
   "execution_count": 25,
   "id": "8d34300a",
   "metadata": {},
   "outputs": [
    {
     "data": {
      "image/png": "[encoded data removed]",
      "text/plain": [
       "<Figure size 432x288 with 1 Axes>"
      ]
     },
     "metadata": {
      "needs_background": "light"
     },
     "output_type": "display_data"
    }
   ],
   "source": [
    "scatter = df.plot.scatter('CO2 emissions (metric tons per capita)', 'Poverty gap at $3.20 a day')\n",
    "# countries with lower poverty gap have more emissions?"
   ]
  },
  {
   "cell_type": "code",
   "execution_count": 26,
   "id": "b703363a",
   "metadata": {},
   "outputs": [],
   "source": [
    "scatter.figure.savefig('intitial scatter2.pdf', dpi=300)"
   ]
  },
  {
   "cell_type": "code",
   "execution_count": 39,
   "id": "fb13cbde",
   "metadata": {},
   "outputs": [],
   "source": [
    "\n",
    "df_2018 = df[df['time'] == 'YR2018']\n"
   ]
  },
  {
   "cell_type": "code",
   "execution_count": 40,
   "id": "5b6e700b",
   "metadata": {},
   "outputs": [
    {
     "data": {
      "image/png": "[encoded data removed]",
      "text/plain": [
       "<Figure size 432x288 with 1 Axes>"
      ]
     },
     "metadata": {
      "needs_background": "light"
     },
     "output_type": "display_data"
    }
   ],
   "source": [
    "scatter = df_2018.plot.scatter('CO2 emissions (metric tons per capita)', 'GDP per capita (current US$)')"
   ]
  },
  {
   "cell_type": "code",
   "execution_count": 41,
   "id": "9bb3121a",
   "metadata": {},
   "outputs": [],
   "source": [
    "scatter.figure.savefig('intitial scatter3pdf', dpi=300)"
   ]
  },
  {
   "cell_type": "code",
   "execution_count": 44,
   "id": "c7277baa",
   "metadata": {},
   "outputs": [
    {
     "name": "stdout",
     "output_type": "stream",
     "text": [
      "       economy    time\n",
      "count    12938   12938\n",
      "unique     264      50\n",
      "top        LCA  YR2006\n",
      "freq        50     264\n"
     ]
    }
   ],
   "source": [
    "print(df.describe(include=['object']))"
   ]
  },
  {
   "cell_type": "code",
   "execution_count": null,
   "id": "ce1faf4b",
   "metadata": {},
   "outputs": [],
   "source": []
  }
 ],
 "metadata": {
  "kernelspec": {
   "display_name": "Python 3 (ipykernel)",
   "language": "python",
   "name": "python3"
  },
  "language_info": {
   "codemirror_mode": {
    "name": "ipython",
    "version": 3
   },
   "file_extension": ".py",
   "mimetype": "text/x-python",
   "name": "python",
   "nbconvert_exporter": "python",
   "pygments_lexer": "ipython3",
   "version": "3.9.7"
  }
 },
 "nbformat": 4,
 "nbformat_minor": 5
}
