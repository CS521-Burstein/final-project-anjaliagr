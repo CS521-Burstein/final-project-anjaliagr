{
 "cells": [
  {
   "cell_type": "code",
   "execution_count": 1,
   "id": "83182957",
   "metadata": {},
   "outputs": [],
   "source": [
    "import pandas"
   ]
  },
  {
   "cell_type": "code",
   "execution_count": 4,
   "id": "85ec9ce3",
   "metadata": {},
   "outputs": [
    {
     "name": "stdout",
     "output_type": "stream",
     "text": [
      "Requirement already satisfied: wbgapi in /Users/eileenzhang/opt/anaconda3/lib/python3.9/site-packages (1.0.7)\n",
      "Requirement already satisfied: requests in /Users/eileenzhang/opt/anaconda3/lib/python3.9/site-packages (from wbgapi) (2.26.0)\n",
      "Requirement already satisfied: tabulate in /Users/eileenzhang/opt/anaconda3/lib/python3.9/site-packages (from wbgapi) (0.8.9)\n",
      "Requirement already satisfied: PyYAML in /Users/eileenzhang/opt/anaconda3/lib/python3.9/site-packages (from wbgapi) (6.0)\n",
      "Requirement already satisfied: charset-normalizer~=2.0.0 in /Users/eileenzhang/opt/anaconda3/lib/python3.9/site-packages (from requests->wbgapi) (2.0.4)\n",
      "Requirement already satisfied: idna<4,>=2.5 in /Users/eileenzhang/opt/anaconda3/lib/python3.9/site-packages (from requests->wbgapi) (3.2)\n",
      "Requirement already satisfied: urllib3<1.27,>=1.21.1 in /Users/eileenzhang/opt/anaconda3/lib/python3.9/site-packages (from requests->wbgapi) (1.26.7)\n",
      "Requirement already satisfied: certifi>=2017.4.17 in /Users/eileenzhang/opt/anaconda3/lib/python3.9/site-packages (from requests->wbgapi) (2021.10.8)\n",
      "Note: you may need to restart the kernel to use updated packages.\n"
     ]
    }
   ],
   "source": [
    "pip install wbgapi"
   ]
  },
  {
   "cell_type": "code",
   "execution_count": 5,
   "id": "80ce18aa",
   "metadata": {},
   "outputs": [],
   "source": [
    "import wbgapi as wb"
   ]
  },
  {
   "cell_type": "code",
   "execution_count": 6,
   "id": "d52bc47c",
   "metadata": {},
   "outputs": [
    {
     "name": "stdout",
     "output_type": "stream",
     "text": [
      "                EG.FEC.RNEW.ZS  EG.USE.COMM.FO.ZS  EN.ATM.CO2E.EG.ZS  \\\n",
      "economy time                                                           \n",
      "ABW     YR1970             NaN                NaN                NaN   \n",
      "        YR1971             NaN                NaN                NaN   \n",
      "        YR1972             NaN                NaN                NaN   \n",
      "        YR1973             NaN                NaN                NaN   \n",
      "        YR1974             NaN                NaN                NaN   \n",
      "...                        ...                ...                ...   \n",
      "ZWE     YR2015       81.427200                NaN                NaN   \n",
      "        YR2016       82.792603                NaN                NaN   \n",
      "        YR2017       83.492996                NaN                NaN   \n",
      "        YR2018       81.363602                NaN                NaN   \n",
      "        YR2019             NaN                NaN                NaN   \n",
      "\n",
      "                EN.ATM.CO2E.PC  EN.ATM.GHGO.KT.CE  EN.ATM.HFCG.KT.CE  \\\n",
      "economy time                                                           \n",
      "ABW     YR1970             NaN          19.667901                NaN   \n",
      "        YR1971             NaN          19.957364                NaN   \n",
      "        YR1972             NaN          20.005770                NaN   \n",
      "        YR1973             NaN          19.716685                NaN   \n",
      "        YR1974             NaN          18.926185                NaN   \n",
      "...                        ...                ...                ...   \n",
      "ZWE     YR2015        0.897598        2499.469604                NaN   \n",
      "        YR2016        0.783303        1587.372070                NaN   \n",
      "        YR2017        0.718570                NaN                NaN   \n",
      "        YR2018        0.849793                NaN                NaN   \n",
      "        YR2019             NaN                NaN                NaN   \n",
      "\n",
      "                EN.ATM.METH.KT.CE  EN.ATM.NOXE.KT.CE  EN.ATM.PFCG.KT.CE  \\\n",
      "economy time                                                              \n",
      "ABW     YR1970            10.2469           1.826198                NaN   \n",
      "        YR1971            10.4531           1.826948                NaN   \n",
      "        YR1972            10.6570           1.844813                NaN   \n",
      "        YR1973            10.8551           1.822090                NaN   \n",
      "        YR1974            11.0415           1.821157                NaN   \n",
      "...                           ...                ...                ...   \n",
      "ZWE     YR2015         11790.0000        6490.000000                NaN   \n",
      "        YR2016         11380.0000        6090.000000                NaN   \n",
      "        YR2017         11560.0000        6280.000000                NaN   \n",
      "        YR2018         11850.0000        6470.000000                NaN   \n",
      "        YR2019                NaN                NaN                NaN   \n",
      "\n",
      "                EN.ATM.SF6G.KT.CE  EN.CLC.MDAT.ZS  NY.GDP.NGAS.RT.ZS  \\\n",
      "economy time                                                           \n",
      "ABW     YR1970                NaN             NaN                NaN   \n",
      "        YR1971                NaN             NaN                NaN   \n",
      "        YR1972                NaN             NaN                NaN   \n",
      "        YR1973                NaN             NaN                NaN   \n",
      "        YR1974                NaN             NaN                NaN   \n",
      "...                           ...             ...                ...   \n",
      "ZWE     YR2015                NaN             NaN                0.0   \n",
      "        YR2016                NaN             NaN                0.0   \n",
      "        YR2017                NaN             NaN                0.0   \n",
      "        YR2018                NaN             NaN                0.0   \n",
      "        YR2019                NaN             NaN                0.0   \n",
      "\n",
      "                NY.GDP.PCAP.CD  SH.STA.AIRP.P5  SI.POV.LMIC.GP  SI.POV.MDIM  \n",
      "economy time                                                                 \n",
      "ABW     YR1970             NaN             NaN             NaN          NaN  \n",
      "        YR1971             NaN             NaN             NaN          NaN  \n",
      "        YR1972             NaN             NaN             NaN          NaN  \n",
      "        YR1973             NaN             NaN             NaN          NaN  \n",
      "        YR1974             NaN             NaN             NaN          NaN  \n",
      "...                        ...             ...             ...          ...  \n",
      "ZWE     YR2015     1445.069702             NaN             NaN          NaN  \n",
      "        YR2016     1464.588957           133.0             NaN          NaN  \n",
      "        YR2017     1235.189032             NaN            25.4          NaN  \n",
      "        YR2018     1254.642265             NaN             NaN          NaN  \n",
      "        YR2019     1316.740657             NaN            29.5          NaN  \n",
      "\n",
      "[12938 rows x 16 columns]\n"
     ]
    }
   ],
   "source": [
    "print(wb.data.DataFrame(['EG.FEC.RNEW.ZS', 'EG.USE.COMM.FO.ZS', 'EN.ATM.CO2E.PC', 'EN.ATM.CO2E.EG.ZS', 'EN.ATM.GHGO.KT.CE',\n",
    "                         'EN.ATM.HFCG.KT.CE','EN.ATM.METH.KT.CE', 'EN.ATM.NOXE.KT.CE', 'EN.ATM.PFCG.KT.CE', 'EN.ATM.SF6G.KT.CE',\n",
    "                         'EN.CLC.MDAT.ZS', 'EG.FEC.RNEW.ZS', 'NY.GDP.PCAP.CD', 'NY.GDP.NGAS.RT.ZS', 'SI.POV.LMIC.GP',\n",
    "                         'SI.POV.MDIM', 'SH.STA.AIRP.P5'], time=range(1970, 2020), skipBlanks=True, columns='series'))"
   ]
  },
  {
   "cell_type": "code",
   "execution_count": null,
   "id": "5dbff051",
   "metadata": {},
   "outputs": [],
   "source": []
  }
 ],
 "metadata": {
  "kernelspec": {
   "display_name": "Python 3 (ipykernel)",
   "language": "python",
   "name": "python3"
  },
  "language_info": {
   "codemirror_mode": {
    "name": "ipython",
    "version": 3
   },
   "file_extension": ".py",
   "mimetype": "text/x-python",
   "name": "python",
   "nbconvert_exporter": "python",
   "pygments_lexer": "ipython3",
   "version": "3.9.7"
  }
 },
 "nbformat": 4,
 "nbformat_minor": 5
}
